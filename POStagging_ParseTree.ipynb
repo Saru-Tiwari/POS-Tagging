{
  "nbformat": 4,
  "nbformat_minor": 0,
  "metadata": {
    "colab": {
      "provenance": [],
      "include_colab_link": true
    },
    "kernelspec": {
      "name": "python3",
      "display_name": "Python 3"
    },
    "language_info": {
      "name": "python"
    }
  },
  "cells": [
    {
      "cell_type": "markdown",
      "metadata": {
        "id": "view-in-github",
        "colab_type": "text"
      },
      "source": [
        "<a href=\"https://colab.research.google.com/github/Saru-Tiwari/POS-Tagging/blob/main/POStagging_ParseTree.ipynb\" target=\"_parent\"><img src=\"https://colab.research.google.com/assets/colab-badge.svg\" alt=\"Open In Colab\"/></a>"
      ]
    },
    {
      "cell_type": "code",
      "source": [
        "import spacy\n",
        "\n",
        "# Load the spaCy model\n",
        "nlp = spacy.load(\"en_core_web_sm\")\n",
        "\n",
        "\n"
      ],
      "metadata": {
        "id": "pu2gcB_BITR8"
      },
      "execution_count": null,
      "outputs": []
    },
    {
      "cell_type": "code",
      "source": [
        "sentence = input(\"Enter a sentence: \")"
      ],
      "metadata": {
        "colab": {
          "base_uri": "https://localhost:8080/"
        },
        "id": "EJJ1e4UNIibx",
        "outputId": "80ec13e8-70e8-4d16-c524-5b2a4b348a58"
      },
      "execution_count": null,
      "outputs": [
        {
          "name": "stdout",
          "output_type": "stream",
          "text": [
            "Enter a sentence: I am Saru Tiwari from sem VII\n"
          ]
        }
      ]
    },
    {
      "cell_type": "code",
      "source": [
        "# Process the sentence with spaCy\n",
        "doc = nlp(sentence)\n",
        "\n",
        "# Print tokens and their part-of-speech tags\n",
        "print(\"Tokenization and Part-of-Speech Tagging:\")\n",
        "for token in doc:\n",
        "    print(f\"Token: {token.text}, POS Tag: {token.pos_}\")"
      ],
      "metadata": {
        "colab": {
          "base_uri": "https://localhost:8080/"
        },
        "id": "zqz3YBaFIhKy",
        "outputId": "0fd44c99-662d-434d-97ed-bf2be3a6e975"
      },
      "execution_count": null,
      "outputs": [
        {
          "output_type": "stream",
          "name": "stdout",
          "text": [
            "Tokenization and Part-of-Speech Tagging:\n",
            "Token: I, POS Tag: PRON\n",
            "Token: am, POS Tag: AUX\n",
            "Token: Saru, POS Tag: PROPN\n",
            "Token: Tiwari, POS Tag: PROPN\n",
            "Token: from, POS Tag: ADP\n",
            "Token: sem, POS Tag: PROPN\n",
            "Token: VII, POS Tag: PROPN\n"
          ]
        }
      ]
    },
    {
      "cell_type": "code",
      "source": [
        "# Generate the dependency parse tree\n",
        "from spacy import displacy\n",
        "parse_tree = displacy.parse_deps(doc)"
      ],
      "metadata": {
        "id": "Wg33NtH4JHj1"
      },
      "execution_count": null,
      "outputs": []
    },
    {
      "cell_type": "code",
      "source": [
        "from spacy import displacy\n",
        "from IPython.display import SVG, display\n",
        "# Generate the dependency parse tree as SVG (string)\n",
        "options = {\n",
        "    'compact': True,\n",
        "    'bg': '#ffffff',\n",
        "    'color': 'black',\n",
        "    'font': 'Source Sans Pro'\n",
        "}\n",
        "\n",
        "# Generate SVG from doc\n",
        "parse_tree = displacy.render(doc, style='dep', options=options, jupyter=False)\n",
        "\n",
        "# Save the SVG to a file\n",
        "output_path = \"parse_tree.svg\"\n",
        "with open(output_path, \"w\", encoding=\"utf-8\") as f:\n",
        "    f.write(parse_tree)\n",
        "\n",
        "# ✅ Display the SVG inline in the notebook\n",
        "display(SVG(parse_tree))"
      ],
      "metadata": {
        "colab": {
          "base_uri": "https://localhost:8080/",
          "height": 404
        },
        "id": "M0IZ_FvQJJR-",
        "outputId": "3d3b495d-0b1b-4989-c96f-969fd572af12"
      },
      "execution_count": null,
      "outputs": [
        {
          "output_type": "display_data",
          "data": {
            "text/plain": [
              "<IPython.core.display.SVG object>"
            ],
            "image/svg+xml": "<svg xmlns=\"http://www.w3.org/2000/svg\" xmlns:xlink=\"http://www.w3.org/1999/xlink\" xml:lang=\"en\" id=\"fa3cc15dc8dd408e91ae90bb8aba26da-0\" class=\"displacy\" width=\"1100\" height=\"362.0\" direction=\"ltr\" style=\"max-width: none; height: 362.0px; color: black; background: #ffffff; font-family: Source Sans Pro; direction: ltr\">\n<text class=\"displacy-token\" fill=\"currentColor\" text-anchor=\"middle\" y=\"272.0\">\n    <tspan class=\"displacy-word\" fill=\"currentColor\" x=\"50\">I</tspan>\n    <tspan class=\"displacy-tag\" dy=\"2em\" fill=\"currentColor\" x=\"50\">PRON</tspan>\n</text>\n\n<text class=\"displacy-token\" fill=\"currentColor\" text-anchor=\"middle\" y=\"272.0\">\n    <tspan class=\"displacy-word\" fill=\"currentColor\" x=\"200\">am</tspan>\n    <tspan class=\"displacy-tag\" dy=\"2em\" fill=\"currentColor\" x=\"200\">AUX</tspan>\n</text>\n\n<text class=\"displacy-token\" fill=\"currentColor\" text-anchor=\"middle\" y=\"272.0\">\n    <tspan class=\"displacy-word\" fill=\"currentColor\" x=\"350\">Saru</tspan>\n    <tspan class=\"displacy-tag\" dy=\"2em\" fill=\"currentColor\" x=\"350\">PROPN</tspan>\n</text>\n\n<text class=\"displacy-token\" fill=\"currentColor\" text-anchor=\"middle\" y=\"272.0\">\n    <tspan class=\"displacy-word\" fill=\"currentColor\" x=\"500\">Tiwari</tspan>\n    <tspan class=\"displacy-tag\" dy=\"2em\" fill=\"currentColor\" x=\"500\">PROPN</tspan>\n</text>\n\n<text class=\"displacy-token\" fill=\"currentColor\" text-anchor=\"middle\" y=\"272.0\">\n    <tspan class=\"displacy-word\" fill=\"currentColor\" x=\"650\">from</tspan>\n    <tspan class=\"displacy-tag\" dy=\"2em\" fill=\"currentColor\" x=\"650\">ADP</tspan>\n</text>\n\n<text class=\"displacy-token\" fill=\"currentColor\" text-anchor=\"middle\" y=\"272.0\">\n    <tspan class=\"displacy-word\" fill=\"currentColor\" x=\"800\">sem</tspan>\n    <tspan class=\"displacy-tag\" dy=\"2em\" fill=\"currentColor\" x=\"800\">PROPN</tspan>\n</text>\n\n<text class=\"displacy-token\" fill=\"currentColor\" text-anchor=\"middle\" y=\"272.0\">\n    <tspan class=\"displacy-word\" fill=\"currentColor\" x=\"950\">VII</tspan>\n    <tspan class=\"displacy-tag\" dy=\"2em\" fill=\"currentColor\" x=\"950\">PROPN</tspan>\n</text>\n\n<g class=\"displacy-arrow\">\n    <path class=\"displacy-arc\" id=\"arrow-fa3cc15dc8dd408e91ae90bb8aba26da-0-0\" stroke-width=\"2px\" d=\"M62,227.0 62,202.0 194.0,202.0 194.0,227.0\" fill=\"none\" stroke=\"currentColor\"/>\n    <text dy=\"1.25em\" style=\"font-size: 0.8em; letter-spacing: 1px\">\n        <textPath xlink:href=\"#arrow-fa3cc15dc8dd408e91ae90bb8aba26da-0-0\" class=\"displacy-label\" startOffset=\"50%\" side=\"left\" fill=\"currentColor\" text-anchor=\"middle\">nsubj</textPath>\n    </text>\n    <path class=\"displacy-arrowhead\" d=\"M62,229.0 L58,221.0 66,221.0\" fill=\"currentColor\"/>\n</g>\n\n<g class=\"displacy-arrow\">\n    <path class=\"displacy-arc\" id=\"arrow-fa3cc15dc8dd408e91ae90bb8aba26da-0-1\" stroke-width=\"2px\" d=\"M362,227.0 362,202.0 494.0,202.0 494.0,227.0\" fill=\"none\" stroke=\"currentColor\"/>\n    <text dy=\"1.25em\" style=\"font-size: 0.8em; letter-spacing: 1px\">\n        <textPath xlink:href=\"#arrow-fa3cc15dc8dd408e91ae90bb8aba26da-0-1\" class=\"displacy-label\" startOffset=\"50%\" side=\"left\" fill=\"currentColor\" text-anchor=\"middle\">compound</textPath>\n    </text>\n    <path class=\"displacy-arrowhead\" d=\"M362,229.0 L358,221.0 366,221.0\" fill=\"currentColor\"/>\n</g>\n\n<g class=\"displacy-arrow\">\n    <path class=\"displacy-arc\" id=\"arrow-fa3cc15dc8dd408e91ae90bb8aba26da-0-2\" stroke-width=\"2px\" d=\"M212,227.0 212,177.0 497.0,177.0 497.0,227.0\" fill=\"none\" stroke=\"currentColor\"/>\n    <text dy=\"1.25em\" style=\"font-size: 0.8em; letter-spacing: 1px\">\n        <textPath xlink:href=\"#arrow-fa3cc15dc8dd408e91ae90bb8aba26da-0-2\" class=\"displacy-label\" startOffset=\"50%\" side=\"left\" fill=\"currentColor\" text-anchor=\"middle\">attr</textPath>\n    </text>\n    <path class=\"displacy-arrowhead\" d=\"M497.0,229.0 L501.0,221.0 493.0,221.0\" fill=\"currentColor\"/>\n</g>\n\n<g class=\"displacy-arrow\">\n    <path class=\"displacy-arc\" id=\"arrow-fa3cc15dc8dd408e91ae90bb8aba26da-0-3\" stroke-width=\"2px\" d=\"M212,227.0 212,152.0 650.0,152.0 650.0,227.0\" fill=\"none\" stroke=\"currentColor\"/>\n    <text dy=\"1.25em\" style=\"font-size: 0.8em; letter-spacing: 1px\">\n        <textPath xlink:href=\"#arrow-fa3cc15dc8dd408e91ae90bb8aba26da-0-3\" class=\"displacy-label\" startOffset=\"50%\" side=\"left\" fill=\"currentColor\" text-anchor=\"middle\">prep</textPath>\n    </text>\n    <path class=\"displacy-arrowhead\" d=\"M650.0,229.0 L654.0,221.0 646.0,221.0\" fill=\"currentColor\"/>\n</g>\n\n<g class=\"displacy-arrow\">\n    <path class=\"displacy-arc\" id=\"arrow-fa3cc15dc8dd408e91ae90bb8aba26da-0-4\" stroke-width=\"2px\" d=\"M812,227.0 812,202.0 944.0,202.0 944.0,227.0\" fill=\"none\" stroke=\"currentColor\"/>\n    <text dy=\"1.25em\" style=\"font-size: 0.8em; letter-spacing: 1px\">\n        <textPath xlink:href=\"#arrow-fa3cc15dc8dd408e91ae90bb8aba26da-0-4\" class=\"displacy-label\" startOffset=\"50%\" side=\"left\" fill=\"currentColor\" text-anchor=\"middle\">compound</textPath>\n    </text>\n    <path class=\"displacy-arrowhead\" d=\"M812,229.0 L808,221.0 816,221.0\" fill=\"currentColor\"/>\n</g>\n\n<g class=\"displacy-arrow\">\n    <path class=\"displacy-arc\" id=\"arrow-fa3cc15dc8dd408e91ae90bb8aba26da-0-5\" stroke-width=\"2px\" d=\"M662,227.0 662,177.0 947.0,177.0 947.0,227.0\" fill=\"none\" stroke=\"currentColor\"/>\n    <text dy=\"1.25em\" style=\"font-size: 0.8em; letter-spacing: 1px\">\n        <textPath xlink:href=\"#arrow-fa3cc15dc8dd408e91ae90bb8aba26da-0-5\" class=\"displacy-label\" startOffset=\"50%\" side=\"left\" fill=\"currentColor\" text-anchor=\"middle\">pobj</textPath>\n    </text>\n    <path class=\"displacy-arrowhead\" d=\"M947.0,229.0 L951.0,221.0 943.0,221.0\" fill=\"currentColor\"/>\n</g>\n</svg>"
          },
          "metadata": {}
        }
      ]
    }
  ]
}